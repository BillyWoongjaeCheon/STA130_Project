{
 "cells": [
  {
   "cell_type": "markdown",
   "id": "12e4ab35",
   "metadata": {},
   "source": [
    "# Course Project Individudal Proposal"
   ]
  },
  {
   "cell_type": "markdown",
   "id": "2d901ed3",
   "metadata": {},
   "source": [
    "### Research Question 1.\n",
    "Does loneliness have effect on depression?"
   ]
  },
  {
   "cell_type": "markdown",
   "id": "2134c389",
   "metadata": {},
   "source": [
    "### Variables\n",
    "\n",
    "The variables that I will investigate on are loneliness, measured by the ucla loneliness scale and dejong emotional social loneliness scale, and depression, measured by phq score. \n",
    "\n",
    "I chose two different methods of measuring loneliness and mental wellness used in the dataset to build even stronger reliability. The sample that I will examine are the people who got yes for both the ucla and dejong loneliness scale as they are both scales to measure loneliness. The discrepency between the number of people who got yes for both scales and for one of the scales would represent the reliability of the loneliness scales. I used the phq score to measure the depression level. "
   ]
  },
  {
   "cell_type": "code",
   "execution_count": 1,
   "id": "80c96432",
   "metadata": {},
   "outputs": [
    {
     "data": {
      "text/html": [
       "<img src=\"https://raw.githubusercontent.com/BillyWoongjaeCheon/STA130_Project/main/loneliness.png\"/>"
      ],
      "text/plain": [
       "<IPython.core.display.Image object>"
      ]
     },
     "metadata": {},
     "output_type": "display_data"
    }
   ],
   "source": [
    "from IPython.display import Image, display\n",
    "\n",
    "# Display the image directly from GitHub\n",
    "display(Image(url='https://raw.githubusercontent.com/BillyWoongjaeCheon/STA130_Project/main/loneliness.png'))"
   ]
  },
  {
   "cell_type": "code",
   "execution_count": 3,
   "id": "2280b9ab",
   "metadata": {},
   "outputs": [
    {
     "data": {
      "text/html": [
       "<img src=\"https://raw.githubusercontent.com/BillyWoongjaeCheon/STA130_Project/main/phq score.png\"/>"
      ],
      "text/plain": [
       "<IPython.core.display.Image object>"
      ]
     },
     "metadata": {},
     "output_type": "display_data"
    }
   ],
   "source": [
    "from IPython.display import Image, display\n",
    "\n",
    "# Display the image directly from GitHub\n",
    "display(Image(url='https://raw.githubusercontent.com/BillyWoongjaeCheon/STA130_Project/main/phq score.png'))"
   ]
  },
  {
   "cell_type": "markdown",
   "id": "625a0bbe",
   "metadata": {},
   "source": [
    "### Hypothesis\n",
    "\n",
    "H_0 (Null Hypothesis): Loneliness has no effect on depression (The chance of getting yes for the phq score is 0.5)\n",
    "\n",
    "H_A (Alternative Hypothesis): Loneliness has effect on depression (The chance of getting yes for the phq score is not 0.5)"
   ]
  },
  {
   "cell_type": "markdown",
   "id": "b180ca45",
   "metadata": {},
   "source": [
    "### Analysis Method\n",
    "\n",
    "First, I need the observed proportion to calculate the p-value. After cleaning the missing values of the dataset, I counted how many people got yes for both ucla and dejong loneliness scales, which turns out to be 435 people. Among the 435 people, I counted how many got yes for the phq score, which turns out to be 207 people. Thus, the observed proportion will be 207/435. Then, I will construct a 10000 simulations with sample size of 435 under the assumption that the null hypothesis is true. By calculating the number of cases more or as extreme than the observed proportion, I can calculate the p-value. I have already done the analysis and the p-value was larger than 0.1, which indicates that I have a no evidence against the null hypothesis. \n",
    "\n",
    "This is an usuful piece of information because it shows that loneliness indeed has no effect on depression, which is relevent to the objectives of the project. "
   ]
  },
  {
   "cell_type": "markdown",
   "id": "bc081113",
   "metadata": {},
   "source": [
    "## Research Question 2.\n",
    "\n",
    "Does loneliness have effect on anxiety?"
   ]
  },
  {
   "cell_type": "markdown",
   "id": "db2ea0c5",
   "metadata": {},
   "source": [
    "### Variables\n",
    "\n",
    "The variables that I will investigate on are loneliness, measured by the ucla loneliness scale and dejong emotional social loneliness scale, and anxiety, measured by gad score. \n",
    "\n",
    "I used the same methodology to measure the loneliness as the previous research question but I used the gad score to measure the anxiety level. "
   ]
  },
  {
   "cell_type": "code",
   "execution_count": 4,
   "id": "698082db",
   "metadata": {},
   "outputs": [
    {
     "data": {
      "text/html": [
       "<img src=\"https://raw.githubusercontent.com/BillyWoongjaeCheon/STA130_Project/main/gad score.png\"/>"
      ],
      "text/plain": [
       "<IPython.core.display.Image object>"
      ]
     },
     "metadata": {},
     "output_type": "display_data"
    }
   ],
   "source": [
    "from IPython.display import Image, display\n",
    "\n",
    "# Display the image directly from GitHub\n",
    "display(Image(url='https://raw.githubusercontent.com/BillyWoongjaeCheon/STA130_Project/main/gad score.png'))"
   ]
  },
  {
   "cell_type": "markdown",
   "id": "4e74b3ac",
   "metadata": {},
   "source": [
    "### Hypothesis\n",
    "\n",
    "H_0 (Null Hypothesis): Loneliness has no effect on anxiety (The chance of getting yes for the gad score is 0.5)\n",
    "\n",
    "H_A (Alternative Hypothesis): Loneliness has effect on anxiety (The chance of getting yes for the gad score is not 0.5)"
   ]
  },
  {
   "cell_type": "markdown",
   "id": "24e9dc2f",
   "metadata": {},
   "source": [
    "### Analysis Method\n",
    "\n",
    "First, I need the observed proportion to calculate the p-value. After cleaning the missing values of the dataset, I counted how many people got yes for both ucla and dejong loneliness scales, which turns out to be 435 people. Among the 435 people, I counted how many got yes for the gad score, which turns out to be 216 people. Thus, the observed proportion will be 216/435. Then, I will construct a 10000 simulations with sample size of 435 under the assumption that the null hypothesis is true. By calculating the number of cases more or as extreme than the observed proportion, I can calculate the p-value. I have already done the analysis and the p-value was larger than 0.1, which indicates that I have a no evidence against the null hypothesis. \n",
    "\n",
    "This is an usuful piece of information because it shows that loneliness indeed has no effect on depression, which is relevent to the objectives of the project. "
   ]
  },
  {
   "cell_type": "markdown",
   "id": "7a8f35d2",
   "metadata": {},
   "source": [
    "## Research Question 3.\n",
    "\n",
    "Are 'correlation between social time with family and life satisfication' and 'correlation between social time with friends' both positively correlated? "
   ]
  },
  {
   "cell_type": "markdown",
   "id": "98248e68",
   "metadata": {},
   "source": [
    "### Variables\n",
    "\n",
    "The variables that I will investigate on are social time spent with family and friends in the past 7 days and self reported life satisfaction scale of 1 to 10. \n",
    "\n",
    "I will calculate the correlation between the social time spent with family in the past 7 days and life satisfaction and the correltaion between the social time spent with friends in the past 7 days and life satisfaction to find out if there is any the difference. "
   ]
  },
  {
   "cell_type": "code",
   "execution_count": 1,
   "id": "132bbb66",
   "metadata": {},
   "outputs": [
    {
     "data": {
      "text/html": [
       "<img src=\"https://raw.githubusercontent.com/BillyWoongjaeCheon/STA130_Project/main/life satisfaction family.png\"/>"
      ],
      "text/plain": [
       "<IPython.core.display.Image object>"
      ]
     },
     "metadata": {},
     "output_type": "display_data"
    }
   ],
   "source": [
    "from IPython.display import Image, display\n",
    "\n",
    "# Display the image directly from GitHub\n",
    "display(Image(url='https://raw.githubusercontent.com/BillyWoongjaeCheon/STA130_Project/main/life satisfaction family.png'))"
   ]
  },
  {
   "cell_type": "code",
   "execution_count": 2,
   "id": "69d6109d",
   "metadata": {},
   "outputs": [
    {
     "data": {
      "text/html": [
       "<img src=\"https://raw.githubusercontent.com/BillyWoongjaeCheon/STA130_Project/main/life satisfaction friends.png\"/>"
      ],
      "text/plain": [
       "<IPython.core.display.Image object>"
      ]
     },
     "metadata": {},
     "output_type": "display_data"
    }
   ],
   "source": [
    "from IPython.display import Image, display\n",
    "\n",
    "# Display the image directly from GitHub\n",
    "display(Image(url='https://raw.githubusercontent.com/BillyWoongjaeCheon/STA130_Project/main/life satisfaction friends.png'))"
   ]
  },
  {
   "cell_type": "markdown",
   "id": "6fa11a0d",
   "metadata": {},
   "source": [
    "### Hypothesis\n",
    "\n",
    "H_0 (Null Hypothesis): Social time with family and life satisfication and social time with friends and life satisfication are both not correlated. (the slope coefficient $β_{1}$is 0)\n",
    "\n",
    "H_A (Alternative Hypothesis): Social time with family and life satisfication and social time with friends and life satisfication are both correlated. (the slope coefficient $β_{1}$is not 0)"
   ]
  },
  {
   "cell_type": "markdown",
   "id": "993ba117",
   "metadata": {},
   "source": [
    "### Analysis Method\n",
    "\n",
    "I will conduct a spreaman's rank correlation to calculate the correlation coefficient because the social time with family and friends columns only provide ordinal categorical data. I will calculate the correlation coefficient between social time spent with family and life satisfication and social time spent with friends and life satisfication individually to compare and contrast. I did the calculation and got -0.0635 for family and satisfaction and -0.1585 for friends and satisfaction. They are both negatively correlated but very close to 0.\n",
    "\n",
    "It provides information about the correlation between social time and life satisfaction which is a part of the interest of this research. "
   ]
  },
  {
   "cell_type": "code",
   "execution_count": null,
   "id": "8dfc41cb",
   "metadata": {},
   "outputs": [],
   "source": []
  }
 ],
 "metadata": {
  "kernelspec": {
   "display_name": "Python 3 (ipykernel)",
   "language": "python",
   "name": "python3"
  },
  "language_info": {
   "codemirror_mode": {
    "name": "ipython",
    "version": 3
   },
   "file_extension": ".py",
   "mimetype": "text/x-python",
   "name": "python",
   "nbconvert_exporter": "python",
   "pygments_lexer": "ipython3",
   "version": "3.11.6"
  }
 },
 "nbformat": 4,
 "nbformat_minor": 5
}
